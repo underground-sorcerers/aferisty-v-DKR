{
 "nbformat": 4,
 "nbformat_minor": 0,
 "metadata": {
  "colab": {
   "provenance": []
  },
  "kernelspec": {
   "name": "python3",
   "display_name": "Python 3 (ipykernel)",
   "language": "python"
  },
  "language_info": {
   "name": "python"
  }
 },
 "cells": [
  {
   "cell_type": "code",
   "metadata": {
    "collapsed": true,
    "id": "Y8utaGr-z9-s",
    "colab": {
     "base_uri": "https://localhost:8080/"
    },
    "outputId": "159259e9-de51-4fed-a041-e8b0aacbcd3e",
    "ExecuteTime": {
     "end_time": "2024-11-29T19:18:43.209763Z",
     "start_time": "2024-11-29T19:18:43.206186Z"
    }
   },
   "source": "# !pip install git+https://github.com/pyg-team/pytorch_geometric.git",
   "outputs": [],
   "execution_count": 1
  },
  {
   "cell_type": "code",
   "source": [
    "import pandas as pd\n",
    "import numpy as np\n",
    "import matplotlib.pyplot as plt\n",
    "from collections import Counter\n",
    "from sklearn.model_selection import train_test_split\n",
    "from sklearn.preprocessing import LabelEncoder\n",
    "import networkx as nx\n",
    "import torch\n",
    "import torch.nn as nn\n",
    "import torch.nn.functional as F\n",
    "from torch_geometric.utils import from_networkx\n",
    "from torch_geometric.data import HeteroData\n",
    "from torch_geometric.nn import SAGEConv\n",
    "from tqdm import tqdm"
   ],
   "metadata": {
    "id": "umZifMrxz_mF",
    "ExecuteTime": {
     "end_time": "2024-11-29T19:18:48.406783Z",
     "start_time": "2024-11-29T19:18:43.251612Z"
    }
   },
   "outputs": [],
   "execution_count": 2
  },
  {
   "cell_type": "code",
   "source": [
    "df = pd.read_csv(\"dataset_files/preprocessed_transactions.csv\")\n",
    "df.drop(df[df['Year'] == 2015].index, axis=0, inplace=True, reset_index=True)\n",
    "df[\"card_id\"] = df[\"User\"].astype(str) + \"_\" + df[\"Card\"].astype(str)\n",
    "df = df.drop([\"User\",\"Card\"],axis=1)\n",
    "df[\"Errors?\"]= df[\"Errors?\"].fillna(\"No error\")\n",
    "df[\"Errors?\"]= LabelEncoder().fit_transform(df[\"Errors?\"])\n",
    "df[\"Is Fraud?\"] = df[\"Is Fraud?\"].astype('uint8')\n",
    "df = df.dropna(subset=['Is Fraud?'])\n",
    "\n",
    "print(df['Is Fraud?'].dtypes)\n",
    "print(df['Is Fraud?'].head())\n",
    "df.head(5)"
   ],
   "metadata": {
    "colab": {
     "base_uri": "https://localhost:8080/",
     "height": 348
    },
    "id": "hTwgcIs1fOdn",
    "outputId": "6a35bed3-ff87-4cb7-9c7d-c793a69e34af",
    "ExecuteTime": {
     "end_time": "2024-11-29T19:18:49.118658Z",
     "start_time": "2024-11-29T19:18:48.538140Z"
    }
   },
   "outputs": [
    {
     "name": "stdout",
     "output_type": "stream",
     "text": [
      "uint8\n",
      "29    0\n",
      "30    0\n",
      "31    0\n",
      "32    0\n",
      "33    0\n",
      "Name: Is Fraud?, dtype: uint8\n"
     ]
    },
    {
     "data": {
      "text/plain": [
       "    Year  Month  Day  Amount        Merchant Name   MCC  Errors?  Is Fraud?  \\\n",
       "29  2016      1   18   10290   208649686760524778  5651       14          0   \n",
       "30  2016      2    6    3903  5805127065224074672  7349       14          0   \n",
       "31  2016      3   15    3258  4241336128694185533  4814       14          0   \n",
       "32  2016      8    3   14785  7035602569409149834  5311       14          0   \n",
       "33  2016      8   13    9550 -9092677072201095172  4900       14          0   \n",
       "\n",
       "    Hour  Minute card_id  \n",
       "29    16      57     0_0  \n",
       "30    20      18     0_0  \n",
       "31    17      14     0_0  \n",
       "32     5       2     0_0  \n",
       "33    13      29     0_0  "
      ],
      "text/html": [
       "<div>\n",
       "<style scoped>\n",
       "    .dataframe tbody tr th:only-of-type {\n",
       "        vertical-align: middle;\n",
       "    }\n",
       "\n",
       "    .dataframe tbody tr th {\n",
       "        vertical-align: top;\n",
       "    }\n",
       "\n",
       "    .dataframe thead th {\n",
       "        text-align: right;\n",
       "    }\n",
       "</style>\n",
       "<table border=\"1\" class=\"dataframe\">\n",
       "  <thead>\n",
       "    <tr style=\"text-align: right;\">\n",
       "      <th></th>\n",
       "      <th>Year</th>\n",
       "      <th>Month</th>\n",
       "      <th>Day</th>\n",
       "      <th>Amount</th>\n",
       "      <th>Merchant Name</th>\n",
       "      <th>MCC</th>\n",
       "      <th>Errors?</th>\n",
       "      <th>Is Fraud?</th>\n",
       "      <th>Hour</th>\n",
       "      <th>Minute</th>\n",
       "      <th>card_id</th>\n",
       "    </tr>\n",
       "  </thead>\n",
       "  <tbody>\n",
       "    <tr>\n",
       "      <th>29</th>\n",
       "      <td>2016</td>\n",
       "      <td>1</td>\n",
       "      <td>18</td>\n",
       "      <td>10290</td>\n",
       "      <td>208649686760524778</td>\n",
       "      <td>5651</td>\n",
       "      <td>14</td>\n",
       "      <td>0</td>\n",
       "      <td>16</td>\n",
       "      <td>57</td>\n",
       "      <td>0_0</td>\n",
       "    </tr>\n",
       "    <tr>\n",
       "      <th>30</th>\n",
       "      <td>2016</td>\n",
       "      <td>2</td>\n",
       "      <td>6</td>\n",
       "      <td>3903</td>\n",
       "      <td>5805127065224074672</td>\n",
       "      <td>7349</td>\n",
       "      <td>14</td>\n",
       "      <td>0</td>\n",
       "      <td>20</td>\n",
       "      <td>18</td>\n",
       "      <td>0_0</td>\n",
       "    </tr>\n",
       "    <tr>\n",
       "      <th>31</th>\n",
       "      <td>2016</td>\n",
       "      <td>3</td>\n",
       "      <td>15</td>\n",
       "      <td>3258</td>\n",
       "      <td>4241336128694185533</td>\n",
       "      <td>4814</td>\n",
       "      <td>14</td>\n",
       "      <td>0</td>\n",
       "      <td>17</td>\n",
       "      <td>14</td>\n",
       "      <td>0_0</td>\n",
       "    </tr>\n",
       "    <tr>\n",
       "      <th>32</th>\n",
       "      <td>2016</td>\n",
       "      <td>8</td>\n",
       "      <td>3</td>\n",
       "      <td>14785</td>\n",
       "      <td>7035602569409149834</td>\n",
       "      <td>5311</td>\n",
       "      <td>14</td>\n",
       "      <td>0</td>\n",
       "      <td>5</td>\n",
       "      <td>2</td>\n",
       "      <td>0_0</td>\n",
       "    </tr>\n",
       "    <tr>\n",
       "      <th>33</th>\n",
       "      <td>2016</td>\n",
       "      <td>8</td>\n",
       "      <td>13</td>\n",
       "      <td>9550</td>\n",
       "      <td>-9092677072201095172</td>\n",
       "      <td>4900</td>\n",
       "      <td>14</td>\n",
       "      <td>0</td>\n",
       "      <td>13</td>\n",
       "      <td>29</td>\n",
       "      <td>0_0</td>\n",
       "    </tr>\n",
       "  </tbody>\n",
       "</table>\n",
       "</div>"
      ]
     },
     "execution_count": 3,
     "metadata": {},
     "output_type": "execute_result"
    }
   ],
   "execution_count": 3
  },
  {
   "cell_type": "code",
   "source": [
    "class GraphConstruction:\n",
    "    def __init__(self, nodes, edges, features=None):\n",
    "        self.g_nx = nx.MultiDiGraph()\n",
    "        self.add_nodes(nodes)\n",
    "        self.add_edges(edges)\n",
    "        self.node_features = features if features is not None else {}\n",
    "\n",
    "    def add_nodes(self, nodes):\n",
    "        for ntype, nodelist in nodes.items():\n",
    "            for node in nodelist:\n",
    "                self.g_nx.add_node(node, ntype=ntype)\n",
    "\n",
    "    def add_edges(self, edges):\n",
    "        for edge in edges:\n",
    "            self.g_nx.add_edges_from(edge)\n",
    "\n",
    "    def to_pyg_data(self):\n",
    "        data = HeteroData()\n",
    "        node_id_mapping = {ntype: [] for ntype in set(nx.get_node_attributes(self.g_nx, 'ntype').values())}\n",
    "\n",
    "        print(\"Processing nodes...\")\n",
    "        for node, ndata in tqdm(self.g_nx.nodes(data=True), desc=\"Nodes\"):\n",
    "            ntype = ndata['ntype']\n",
    "            if 'x' not in data[ntype]:\n",
    "                data[ntype].x = []\n",
    "            node_id_mapping[ntype].append(node)\n",
    "            if self.node_features and ntype in self.node_features:\n",
    "                if node in self.node_features[ntype].index:\n",
    "                    features = self.node_features[ntype].loc[node].values\n",
    "                    features = [float(f) if isinstance(f, (int, float)) else 0.0 for f in features]\n",
    "                    data[ntype].x.append(features)\n",
    "                else:\n",
    "                    data[ntype].x.append([0.0] * self.node_features[ntype].shape[1])\n",
    "\n",
    "        print(\"Converting node features to tensors...\")\n",
    "        for ntype in tqdm(data.node_types, desc=\"Node Types\"):\n",
    "            data[ntype].x = torch.tensor(data[ntype].x, dtype=torch.float)\n",
    "\n",
    "        print(\"Processing edges...\")\n",
    "        for u, v in tqdm(self.g_nx.edges(), desc=\"Edges\"):\n",
    "            u_type = self.g_nx.nodes[u]['ntype']\n",
    "            v_type = self.g_nx.nodes[v]['ntype']\n",
    "            edge_type = (u_type, 'to', v_type)\n",
    "            if edge_type not in data.edge_types:\n",
    "                data[edge_type].edge_index = [[], []]\n",
    "            if u in node_id_mapping[u_type] and v in node_id_mapping[v_type]:\n",
    "                u_index = node_id_mapping[u_type].index(u)\n",
    "                v_index = node_id_mapping[v_type].index(v)\n",
    "                data[edge_type].edge_index[0].append(u_index)\n",
    "                data[edge_type].edge_index[1].append(v_index)\n",
    "\n",
    "        print(\"Converting edge indices to tensors...\")\n",
    "        for edge_type in tqdm(data.edge_types, desc=\"Edge Types\"):\n",
    "            edge_index = data[edge_type].edge_index\n",
    "            data[edge_type].edge_index = torch.tensor(edge_index, dtype=torch.long)\n",
    "\n",
    "        return data"
   ],
   "metadata": {
    "id": "G0F6rtsv1ItR",
    "ExecuteTime": {
     "end_time": "2024-11-29T19:18:49.175930Z",
     "start_time": "2024-11-29T19:18:49.167008Z"
    }
   },
   "outputs": [],
   "execution_count": 4
  },
  {
   "cell_type": "code",
   "source": [
    "class GraphSAGE(torch.nn.Module):\n",
    "    def __init__(self, in_channels, hidden_channels, out_channels, num_layers):\n",
    "        super(GraphSAGE, self).__init__()\n",
    "        self.convs = torch.nn.ModuleList()\n",
    "        self.convs.append(SAGEConv(in_channels, hidden_channels))\n",
    "        for _ in range(num_layers - 2):\n",
    "            self.convs.append(SAGEConv(hidden_channels, hidden_channels))\n",
    "        self.convs.append(SAGEConv(hidden_channels, out_channels))\n",
    "        # self.affine = torch.nn.Linear(hidden_channels, out_channels)\n",
    "\n",
    "    def forward(self, x, edge_index):\n",
    "        for conv in self.convs[:-1]:\n",
    "            x = conv(x, edge_index)\n",
    "            x = F.elu(x)\n",
    "        x = self.convs[-1](x, edge_index)\n",
    "        # x = self.affine(x)\n",
    "        return torch.log_softmax(x, dim=-1)"
   ],
   "metadata": {
    "id": "bEFKhytQ1SPo",
    "ExecuteTime": {
     "end_time": "2024-11-29T19:39:03.983208Z",
     "start_time": "2024-11-29T19:39:03.978266Z"
    }
   },
   "outputs": [],
   "execution_count": 19
  },
  {
   "cell_type": "code",
   "source": [
    "# Encode categorical features\n",
    "le_card = LabelEncoder()\n",
    "le_merchant = LabelEncoder()\n",
    "df['card_id_enc'] = le_card.fit_transform(df['card_id'])\n",
    "df['merchant_enc'] = le_merchant.fit_transform(df['Merchant Name'])\n",
    "\n",
    "# # Balancing the dataset without resetting the index\n",
    "# fraudulent = df[df[\"Is Fraud?\"] == 1]\n",
    "# non_fraudulent = df[df[\"Is Fraud?\"] == 0]\n",
    "# \n",
    "# print(len(fraudulent), len(non_fraudulent))\n",
    "# \n",
    "# desired_ratio = 1  # 1:1 balance\n",
    "# non_fraud_sample_size = round(len(fraudulent) * desired_ratio)\n",
    "# non_fraudulent_sampled = non_fraudulent.sample(n=non_fraud_sample_size, random_state=42)\n",
    "# \n",
    "# balanced_df = pd.concat([fraudulent, non_fraudulent_sampled])\n",
    "# balanced_df = balanced_df.sample(frac=1, random_state=42)  # Do not reset index\n",
    "# print(f\"Balanced dataset size: {len(balanced_df)}\")\n",
    "# print(balanced_df[\"Is Fraud?\"].value_counts())\n",
    "# \n",
    "# df = balanced_df.copy()\n",
    "# # Transform labels using the same encoders\n",
    "# df['card_id_enc'] = le_card.transform(df['card_id'])\n",
    "# df['merchant_enc'] = le_merchant.transform(df['Merchant Name'])\n",
    "\n",
    "# Split data into training and inductive sets\n",
    "cutoff = round(0.7 * len(df))\n",
    "train_data = df.iloc[:cutoff]\n",
    "inductive_data = df.iloc[cutoff:]\n",
    "\n",
    "# Prepare node features\n",
    "transaction_features = train_data.drop(columns=['card_id', 'Merchant Name', 'Is Fraud?', 'card_id_enc', 'merchant_enc'], axis=1)\n",
    "transaction_features.index = train_data.index\n",
    "client_features = pd.DataFrame(index=train_data['card_id_enc'].unique())\n",
    "merchant_features = pd.DataFrame(index=train_data['merchant_enc'].unique())\n",
    "\n",
    "train_mask = torch.zeros(len(df), dtype=torch.bool)\n",
    "val_mask = torch.zeros(len(df), dtype=torch.bool)\n",
    "\n",
    "train_mask[:cutoff] = True  # Training nodes\n",
    "val_mask[cutoff:] = True\n",
    "\n",
    "# Create nodes and edges\n",
    "nodes = {\n",
    "    'client': df['card_id_enc'].unique(),\n",
    "    'merchant': df['merchant_enc'].unique(),\n",
    "    'transaction': df.index\n",
    "}\n",
    "edges = [\n",
    "    list(zip(df['card_id_enc'], df.index)),\n",
    "    list(zip(df.index, df['merchant_enc']))\n",
    "]\n",
    "features = {\n",
    "    'transaction': df.drop(columns=['card_id', 'Merchant Name', 'Is Fraud?', 'card_id_enc', 'merchant_enc'], axis=1),\n",
    "    'client': pd.DataFrame(index=df['card_id_enc'].unique()),\n",
    "    'merchant': pd.DataFrame(index=df['merchant_enc'].unique())\n",
    "}\n",
    "\n",
    "# Build graph\n",
    "graph = GraphConstruction(nodes, edges, features)\n",
    "data = graph.to_pyg_data()\n",
    "\n",
    "data['transaction'].train_mask = train_mask\n",
    "data['transaction'].val_mask = val_mask\n",
    "data['transaction'].y = torch.tensor(df['Is Fraud?'].values, dtype=torch.long)"
   ],
   "metadata": {
    "colab": {
     "base_uri": "https://localhost:8080/"
    },
    "id": "U5TjX5hi1TeJ",
    "outputId": "73b92154-e2fb-4cd6-baa8-9b016528630f",
    "ExecuteTime": {
     "end_time": "2024-11-29T19:27:25.629940Z",
     "start_time": "2024-11-29T19:18:49.245261Z"
    }
   },
   "outputs": [
    {
     "name": "stdout",
     "output_type": "stream",
     "text": [
      "Processing nodes...\n"
     ]
    },
    {
     "name": "stderr",
     "output_type": "stream",
     "text": [
      "Nodes: 100%|██████████| 215702/215702 [00:07<00:00, 27233.09it/s]\n"
     ]
    },
    {
     "name": "stdout",
     "output_type": "stream",
     "text": [
      "Converting node features to tensors...\n"
     ]
    },
    {
     "name": "stderr",
     "output_type": "stream",
     "text": [
      "Node Types: 100%|██████████| 3/3 [00:00<00:00, 33.42it/s]\n"
     ]
    },
    {
     "name": "stdout",
     "output_type": "stream",
     "text": [
      "Processing edges...\n"
     ]
    },
    {
     "name": "stderr",
     "output_type": "stream",
     "text": [
      "Edges: 100%|██████████| 427228/427228 [08:25<00:00, 844.61it/s] \n"
     ]
    },
    {
     "name": "stdout",
     "output_type": "stream",
     "text": [
      "Converting edge indices to tensors...\n"
     ]
    },
    {
     "name": "stderr",
     "output_type": "stream",
     "text": [
      "Edge Types: 100%|██████████| 4/4 [00:00<00:00, 60.82it/s]\n"
     ]
    }
   ],
   "execution_count": 6
  },
  {
   "metadata": {
    "ExecuteTime": {
     "end_time": "2024-11-29T19:39:19.228363Z",
     "start_time": "2024-11-29T19:39:19.224711Z"
    }
   },
   "cell_type": "code",
   "source": [
    "# Function to calculate the number of trainable parameters\n",
    "def count_trainable_parameters(model):\n",
    "    return sum(p.numel() for p in model.parameters() if p.requires_grad)\n",
    "\n",
    "# Example: Calculate parameters for a given model\n",
    "trainable_params = count_trainable_parameters(model)\n",
    "print(f\"Total trainable parameters: {trainable_params}\")\n"
   ],
   "outputs": [
    {
     "name": "stdout",
     "output_type": "stream",
     "text": [
      "Total trainable parameters: 9602\n"
     ]
    }
   ],
   "execution_count": 22
  },
  {
   "cell_type": "code",
   "source": [
    "import os\n",
    "\n",
    "# Define model\n",
    "in_channels = transaction_features.shape[1]\n",
    "hidden_channels = 64\n",
    "out_channels = 2  # Binary classification\n",
    "num_layers = 3\n",
    "model = GraphSAGE(in_channels, hidden_channels, out_channels, num_layers)\n",
    "\n",
    "# Training setup\n",
    "optimizer = torch.optim.Adam(model.parameters(), lr=0.01)\n",
    "criterion = torch.nn.NLLLoss()\n",
    "\n",
    "# Initialize variables for best model tracking\n",
    "best_val_loss = float('inf')\n",
    "best_model_path = \"best_model.pth\"\n",
    "\n",
    "# Training loop\n",
    "model.train()\n",
    "\n",
    "for epoch in range(100):\n",
    "    optimizer.zero_grad()\n",
    "\n",
    "    # Forward pass\n",
    "    out = model(data['transaction'].x, data[('transaction', 'to', 'merchant')].edge_index)\n",
    "    train_loss = criterion(out[data['transaction'].train_mask],\n",
    "                           data['transaction'].y[data['transaction'].train_mask])\n",
    "\n",
    "    # Backward pass\n",
    "    train_loss.backward()\n",
    "    optimizer.step()\n",
    "\n",
    "    # Save the best model\n",
    "    if train_loss.item() < best_val_loss:\n",
    "        best_val_loss = train_loss.item()\n",
    "        torch.save(model.state_dict(), best_model_path)\n",
    "\n",
    "    print(f'Epoch {epoch}, Loss: {train_loss.item()}')"
   ],
   "metadata": {
    "id": "jRNw-Hrn491X",
    "colab": {
     "base_uri": "https://localhost:8080/"
    },
    "outputId": "043eb033-2ded-4a05-8fe0-a694d4271826",
    "ExecuteTime": {
     "end_time": "2024-11-29T19:51:06.844093Z",
     "start_time": "2024-11-29T19:50:19.566532Z"
    }
   },
   "outputs": [
    {
     "name": "stdout",
     "output_type": "stream",
     "text": [
      "Epoch 0, Loss: 0.6711665391921997\n",
      "Epoch 1, Loss: 0.3583564758300781\n",
      "Epoch 2, Loss: 0.1860780119895935\n",
      "Epoch 3, Loss: 0.10451924800872803\n",
      "Epoch 4, Loss: 0.07699497044086456\n",
      "Epoch 5, Loss: 0.07444208115339279\n",
      "Epoch 6, Loss: 0.08078351616859436\n",
      "Epoch 7, Loss: 0.08914981037378311\n",
      "Epoch 8, Loss: 0.09693023562431335\n",
      "Epoch 9, Loss: 0.10317942500114441\n",
      "Epoch 10, Loss: 0.1075962707400322\n",
      "Epoch 11, Loss: 0.11015015095472336\n",
      "Epoch 12, Loss: 0.11093780398368835\n",
      "Epoch 13, Loss: 0.11012117564678192\n",
      "Epoch 14, Loss: 0.10789932310581207\n",
      "Epoch 15, Loss: 0.1044979989528656\n",
      "Epoch 16, Loss: 0.10018118470907211\n",
      "Epoch 17, Loss: 0.09525524079799652\n",
      "Epoch 18, Loss: 0.08992236852645874\n",
      "Epoch 19, Loss: 0.08451299369335175\n",
      "Epoch 20, Loss: 0.07954833656549454\n",
      "Epoch 21, Loss: 0.07570618391036987\n",
      "Epoch 22, Loss: 0.07378418743610382\n",
      "Epoch 23, Loss: 0.07445169985294342\n",
      "Epoch 24, Loss: 0.07757531106472015\n",
      "Epoch 25, Loss: 0.08144396543502808\n",
      "Epoch 26, Loss: 0.08341710269451141\n",
      "Epoch 27, Loss: 0.08229731768369675\n",
      "Epoch 28, Loss: 0.07925137132406235\n",
      "Epoch 29, Loss: 0.0762137696146965\n",
      "Epoch 30, Loss: 0.07433637976646423\n",
      "Epoch 31, Loss: 0.07377244532108307\n",
      "Epoch 32, Loss: 0.07414416968822479\n",
      "Epoch 33, Loss: 0.07496821135282516\n",
      "Epoch 34, Loss: 0.07585229724645615\n",
      "Epoch 35, Loss: 0.0765412300825119\n",
      "Epoch 36, Loss: 0.07690270245075226\n",
      "Epoch 37, Loss: 0.07689967751502991\n",
      "Epoch 38, Loss: 0.07656645774841309\n",
      "Epoch 39, Loss: 0.07598872482776642\n",
      "Epoch 40, Loss: 0.07528718560934067\n",
      "Epoch 41, Loss: 0.07460065931081772\n",
      "Epoch 42, Loss: 0.07406289875507355\n",
      "Epoch 43, Loss: 0.07377451658248901\n",
      "Epoch 44, Loss: 0.07377117872238159\n",
      "Epoch 45, Loss: 0.07400225847959518\n",
      "Epoch 46, Loss: 0.07433769851922989\n",
      "Epoch 47, Loss: 0.07461448758840561\n",
      "Epoch 48, Loss: 0.07470875978469849\n",
      "Epoch 49, Loss: 0.074590764939785\n",
      "Epoch 50, Loss: 0.07432585209608078\n",
      "Epoch 51, Loss: 0.07402703911066055\n",
      "Epoch 52, Loss: 0.07379548251628876\n",
      "Epoch 53, Loss: 0.07368288189172745\n",
      "Epoch 54, Loss: 0.073687843978405\n",
      "Epoch 55, Loss: 0.07377251982688904\n",
      "Epoch 56, Loss: 0.07388587296009064\n",
      "Epoch 57, Loss: 0.07398172467947006\n",
      "Epoch 58, Loss: 0.07402969151735306\n",
      "Epoch 59, Loss: 0.07401970773935318\n",
      "Epoch 60, Loss: 0.07395946979522705\n",
      "Epoch 61, Loss: 0.07387000322341919\n",
      "Epoch 62, Loss: 0.0737784206867218\n",
      "Epoch 63, Loss: 0.0737089216709137\n",
      "Epoch 64, Loss: 0.0736767128109932\n",
      "Epoch 65, Loss: 0.07368320226669312\n",
      "Epoch 66, Loss: 0.07371679693460464\n",
      "Epoch 67, Loss: 0.07375762611627579\n",
      "Epoch 68, Loss: 0.0737864151597023\n",
      "Epoch 69, Loss: 0.07379163056612015\n",
      "Epoch 70, Loss: 0.0737733542919159\n",
      "Epoch 71, Loss: 0.0737411230802536\n",
      "Epoch 72, Loss: 0.07370813935995102\n",
      "Epoch 73, Loss: 0.07368548959493637\n",
      "Epoch 74, Loss: 0.07367800921201706\n",
      "Epoch 75, Loss: 0.073683962225914\n",
      "Epoch 76, Loss: 0.07369720190763474\n",
      "Epoch 77, Loss: 0.07370999455451965\n",
      "Epoch 78, Loss: 0.07371663302183151\n",
      "Epoch 79, Loss: 0.07371468096971512\n",
      "Epoch 80, Loss: 0.07370539754629135\n",
      "Epoch 81, Loss: 0.07369258254766464\n",
      "Epoch 82, Loss: 0.07368092238903046\n",
      "Epoch 83, Loss: 0.07367422431707382\n",
      "Epoch 84, Loss: 0.07367366552352905\n",
      "Epoch 85, Loss: 0.07367797195911407\n",
      "Epoch 86, Loss: 0.07368414849042892\n",
      "Epoch 87, Loss: 0.07368864864110947\n",
      "Epoch 88, Loss: 0.07368960976600647\n",
      "Epoch 89, Loss: 0.07368671149015427\n",
      "Epoch 90, Loss: 0.07368171960115433\n",
      "Epoch 91, Loss: 0.07367656379938126\n",
      "Epoch 92, Loss: 0.0736730620265007\n",
      "Epoch 93, Loss: 0.0736723244190216\n",
      "Epoch 94, Loss: 0.07367364317178726\n",
      "Epoch 95, Loss: 0.07367606461048126\n",
      "Epoch 96, Loss: 0.07367827743291855\n",
      "Epoch 97, Loss: 0.07367905229330063\n",
      "Epoch 98, Loss: 0.07367848604917526\n",
      "Epoch 99, Loss: 0.0736766830086708\n"
     ]
    }
   ],
   "execution_count": 23
  },
  {
   "cell_type": "code",
   "source": [
    "from sklearn.metrics import f1_score, accuracy_score, confusion_matrix, recall_score as recall\n",
    "\n",
    "model.eval()\n",
    "with torch.no_grad():\n",
    "    val_logits = out[data['transaction'].val_mask]\n",
    "    print(val_logits)\n",
    "    val_preds = torch.argmax(val_logits, dim=1)\n",
    "    val_labels = data['transaction'].y[data['transaction'].val_mask]\n",
    "print(val_labels.bincount())\n",
    "rec = recall(val_labels.cpu(), val_preds.cpu(), average='binary')\n",
    "accuracy = accuracy_score(val_labels.cpu(), val_preds.cpu())\n",
    "conf_matrix = confusion_matrix(val_labels.cpu(), val_preds.cpu())\n",
    "\n",
    "print(f\"Validation Recall: {rec:.4f}\")\n",
    "print(f\"Validation Accuracy: {accuracy:.4f}\")\n",
    "print(\"Confusion Matrix:\")\n",
    "print(conf_matrix)"
   ],
   "metadata": {
    "id": "afR9vhZmaT2i",
    "colab": {
     "base_uri": "https://localhost:8080/"
    },
    "outputId": "95ea36ab-a50b-4437-fc9c-6506a9d0fec9",
    "ExecuteTime": {
     "end_time": "2024-11-29T19:51:10.217973Z",
     "start_time": "2024-11-29T19:51:10.169657Z"
    }
   },
   "outputs": [
    {
     "name": "stdout",
     "output_type": "stream",
     "text": [
      "tensor([[-0.0138, -4.2922],\n",
      "        [-0.0138, -4.2922],\n",
      "        [-0.0138, -4.2922],\n",
      "        ...,\n",
      "        [-0.0138, -4.2922],\n",
      "        [-0.0138, -4.2922],\n",
      "        [-0.0138, -4.2922]])\n",
      "tensor([63105,   979])\n",
      "Validation Recall: 0.0000\n",
      "Validation Accuracy: 0.9847\n",
      "Confusion Matrix:\n",
      "[[63105     0]\n",
      " [  979     0]]\n"
     ]
    }
   ],
   "execution_count": 24
  },
  {
   "metadata": {
    "ExecuteTime": {
     "end_time": "2024-11-29T19:28:34.762398Z",
     "start_time": "2024-11-29T19:28:34.757650Z"
    }
   },
   "cell_type": "code",
   "source": "",
   "outputs": [],
   "execution_count": null
  }
 ]
}
