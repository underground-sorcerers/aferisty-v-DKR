{
 "cells": [
  {
   "metadata": {
    "ExecuteTime": {
     "end_time": "2024-11-29T13:55:31.535703Z",
     "start_time": "2024-11-29T13:55:31.155701Z"
    }
   },
   "cell_type": "code",
   "source": "import pandas as pd",
   "id": "15911646fe22a847",
   "outputs": [],
   "execution_count": 1
  },
  {
   "metadata": {
    "ExecuteTime": {
     "end_time": "2024-11-29T12:51:21.201329Z",
     "start_time": "2024-11-29T12:51:21.181379Z"
    }
   },
   "cell_type": "code",
   "source": [
    "columns = pd.read_csv(\"dataset_files/credit_card_transactions-ibm_v2.csv\", nrows=0).columns\n",
    "columns"
   ],
   "id": "f4f46d2e9e76f01",
   "outputs": [
    {
     "data": {
      "text/plain": [
       "Index(['User', 'Card', 'Year', 'Month', 'Day', 'Time', 'Amount', 'Use Chip',\n",
       "       'Merchant Name', 'Merchant City', 'Merchant State', 'Zip', 'MCC',\n",
       "       'Errors?', 'Is Fraud?'],\n",
       "      dtype='object')"
      ]
     },
     "execution_count": 104,
     "metadata": {},
     "output_type": "execute_result"
    }
   ],
   "execution_count": 104
  },
  {
   "metadata": {
    "ExecuteTime": {
     "end_time": "2024-11-29T10:28:03.811106Z",
     "start_time": "2024-11-29T10:28:03.806503Z"
    }
   },
   "cell_type": "code",
   "source": [
    "def currency_to_integer_cents(amount):\n",
    "    return int(amount.replace(\"$\",\"\").replace(\".\",\"\"))\n",
    "\n",
    "def yes_no_to_bool(value):\n",
    "    return value == \"Yes\"\n",
    "\n",
    "importing_columns = [\n",
    "    'User',\n",
    "    'Card',\n",
    "    'Year',\n",
    "    'Month',\n",
    "    'Day',\n",
    "    # 'Time',\n",
    "    'Amount',\n",
    "    'Use Chip',\n",
    "    'Merchant Name',\n",
    "    # 'Merchant City',\n",
    "    # 'Merchant State',\n",
    "    # 'Zip',\n",
    "    'MCC',\n",
    "    'Errors?',\n",
    "    'Is Fraud?']\n",
    "\n",
    "dtype_conversions = {\n",
    "    'User': 'uint16',\n",
    "    'Card': 'uint8',\n",
    "    'Year': 'uint16',\n",
    "    'Month': 'uint8',\n",
    "    'Day': 'uint8',\n",
    "    # 'Time', -- dropped\n",
    "    # 'Amount',\n",
    "    'Use Chip': 'category',\n",
    "    # 'Merchant Name',\n",
    "    # 'Merchant City': 'category', -- dropped\n",
    "    # 'Merchant State': 'category', -- dropped\n",
    "    # 'Zip', -- dropped\n",
    "    'MCC': 'uint16',\n",
    "    'Errors?': 'category',\n",
    "    # 'Is Fraud?'\n",
    "}\n",
    "\n",
    "time_dtype_conversions = {\n",
    "    \"Hour\": \"uint8\",\n",
    "    \"Minute\": \"uint8\"\n",
    "}\n",
    "\n",
    "arbitrary_conversions = {\n",
    "    # 'User': 'uint16',\n",
    "    # 'Card': 'uint8',\n",
    "    # 'Year',\n",
    "    # 'Month': 'uint8',\n",
    "    # 'Day': 'uint8',\n",
    "    # 'Time', -- dropped\n",
    "    'Amount': currency_to_integer_cents,\n",
    "    # 'Use Chip': 'category',\n",
    "    # 'Merchant Name',\n",
    "    # 'Merchant City': 'category', -- dropped\n",
    "    # 'Merchant State': 'category', -- dropped\n",
    "    # 'Zip', -- dropped\n",
    "    # 'MCC': 'uint16',\n",
    "    # 'Errors?': 'category',\n",
    "    'Is Fraud?': yes_no_to_bool\n",
    "}"
   ],
   "id": "dbc6b70a3284bfd8",
   "outputs": [],
   "execution_count": 3
  },
  {
   "cell_type": "code",
   "id": "initial_id",
   "metadata": {
    "collapsed": true,
    "ExecuteTime": {
     "end_time": "2024-11-29T10:28:59.671709Z",
     "start_time": "2024-11-29T10:28:03.849523Z"
    }
   },
   "source": [
    "NROWS = 10000000\n",
    "\n",
    "df = pd.read_csv(\"dataset_files/credit_card_transactions-ibm_v2.csv\", # nrows=NROWS,\n",
    "                 dtype=dtype_conversions, converters=arbitrary_conversions, usecols=importing_columns)\n",
    "df['Amount'] = df[\"Amount\"].astype(\"int32\")\n",
    "# time_df = pd.read_csv(\"dataset_files/hours_and_minutes.csv\", nrows=NROWS, dtype=time_dtype_conversions)"
   ],
   "outputs": [],
   "execution_count": 4
  },
  {
   "metadata": {
    "ExecuteTime": {
     "end_time": "2024-11-29T10:49:06.005152Z",
     "start_time": "2024-11-29T10:49:05.992074Z"
    }
   },
   "cell_type": "code",
   "source": "df.info()",
   "id": "c0bc8872dd4920d7",
   "outputs": [
    {
     "name": "stdout",
     "output_type": "stream",
     "text": [
      "<class 'pandas.core.frame.DataFrame'>\n",
      "RangeIndex: 24386900 entries, 0 to 24386899\n",
      "Data columns (total 11 columns):\n",
      " #   Column         Dtype   \n",
      "---  ------         -----   \n",
      " 0   User           uint16  \n",
      " 1   Card           uint8   \n",
      " 2   Year           uint16  \n",
      " 3   Month          uint8   \n",
      " 4   Day            uint8   \n",
      " 5   Amount         int32   \n",
      " 6   Use Chip       category\n",
      " 7   Merchant Name  int64   \n",
      " 8   MCC            uint16  \n",
      " 9   Errors?        category\n",
      " 10  Is Fraud?      bool    \n",
      "dtypes: bool(1), category(2), int32(1), int64(1), uint16(3), uint8(3)\n",
      "memory usage: 558.2 MB\n"
     ]
    }
   ],
   "execution_count": 25
  },
  {
   "metadata": {
    "ExecuteTime": {
     "end_time": "2024-11-29T10:49:19.522737Z",
     "start_time": "2024-11-29T10:49:19.515695Z"
    }
   },
   "cell_type": "code",
   "source": "df.memory_usage(deep=True) / 1024 / 1024",
   "id": "59d73c448b4f784d",
   "outputs": [
    {
     "data": {
      "text/plain": [
       "Index              0.000122\n",
       "User              46.514320\n",
       "Card              23.257160\n",
       "Year              46.514320\n",
       "Month             23.257160\n",
       "Day               23.257160\n",
       "Amount            93.028641\n",
       "Use Chip          23.257475\n",
       "Merchant Name    186.057281\n",
       "MCC               46.514320\n",
       "Errors?           23.259511\n",
       "Is Fraud?         23.257160\n",
       "dtype: float64"
      ]
     },
     "execution_count": 26,
     "metadata": {},
     "output_type": "execute_result"
    }
   ],
   "execution_count": 26
  },
  {
   "metadata": {
    "ExecuteTime": {
     "end_time": "2024-11-29T10:29:04.222986Z",
     "start_time": "2024-11-29T10:29:00.237199Z"
    }
   },
   "cell_type": "code",
   "source": "df.describe()",
   "id": "7d84208b14a92896",
   "outputs": [
    {
     "data": {
      "text/plain": [
       "               User          Card          Year         Month           Day  \\\n",
       "count  2.438690e+07  2.438690e+07  2.438690e+07  2.438690e+07  2.438690e+07   \n",
       "mean   1.001019e+03  1.351366e+00  2.011955e+03  6.525064e+00  1.571812e+01   \n",
       "std    5.694612e+02  1.407154e+00  5.105921e+00  3.472355e+00  8.794073e+00   \n",
       "min    0.000000e+00  0.000000e+00  1.991000e+03  1.000000e+00  1.000000e+00   \n",
       "25%    5.100000e+02  0.000000e+00  2.008000e+03  3.000000e+00  8.000000e+00   \n",
       "50%    1.006000e+03  1.000000e+00  2.013000e+03  7.000000e+00  1.600000e+01   \n",
       "75%    1.477000e+03  2.000000e+00  2.016000e+03  1.000000e+01  2.300000e+01   \n",
       "max    1.999000e+03  8.000000e+00  2.020000e+03  1.200000e+01  3.100000e+01   \n",
       "\n",
       "             Amount  Merchant Name           MCC  \n",
       "count  2.438690e+07   2.438690e+07  2.438690e+07  \n",
       "mean   4.363401e+03  -4.769230e+17  5.561171e+03  \n",
       "std    8.202239e+03   4.758940e+18  8.793154e+02  \n",
       "min   -5.000000e+04  -9.222899e+18  1.711000e+03  \n",
       "25%    9.200000e+02  -4.500543e+18  5.300000e+03  \n",
       "50%    3.014000e+03  -7.946765e+17  5.499000e+03  \n",
       "75%    6.506000e+03   3.189517e+18  5.812000e+03  \n",
       "max    1.239050e+06   9.223292e+18  9.402000e+03  "
      ],
      "text/html": [
       "<div>\n",
       "<style scoped>\n",
       "    .dataframe tbody tr th:only-of-type {\n",
       "        vertical-align: middle;\n",
       "    }\n",
       "\n",
       "    .dataframe tbody tr th {\n",
       "        vertical-align: top;\n",
       "    }\n",
       "\n",
       "    .dataframe thead th {\n",
       "        text-align: right;\n",
       "    }\n",
       "</style>\n",
       "<table border=\"1\" class=\"dataframe\">\n",
       "  <thead>\n",
       "    <tr style=\"text-align: right;\">\n",
       "      <th></th>\n",
       "      <th>User</th>\n",
       "      <th>Card</th>\n",
       "      <th>Year</th>\n",
       "      <th>Month</th>\n",
       "      <th>Day</th>\n",
       "      <th>Amount</th>\n",
       "      <th>Merchant Name</th>\n",
       "      <th>MCC</th>\n",
       "    </tr>\n",
       "  </thead>\n",
       "  <tbody>\n",
       "    <tr>\n",
       "      <th>count</th>\n",
       "      <td>2.438690e+07</td>\n",
       "      <td>2.438690e+07</td>\n",
       "      <td>2.438690e+07</td>\n",
       "      <td>2.438690e+07</td>\n",
       "      <td>2.438690e+07</td>\n",
       "      <td>2.438690e+07</td>\n",
       "      <td>2.438690e+07</td>\n",
       "      <td>2.438690e+07</td>\n",
       "    </tr>\n",
       "    <tr>\n",
       "      <th>mean</th>\n",
       "      <td>1.001019e+03</td>\n",
       "      <td>1.351366e+00</td>\n",
       "      <td>2.011955e+03</td>\n",
       "      <td>6.525064e+00</td>\n",
       "      <td>1.571812e+01</td>\n",
       "      <td>4.363401e+03</td>\n",
       "      <td>-4.769230e+17</td>\n",
       "      <td>5.561171e+03</td>\n",
       "    </tr>\n",
       "    <tr>\n",
       "      <th>std</th>\n",
       "      <td>5.694612e+02</td>\n",
       "      <td>1.407154e+00</td>\n",
       "      <td>5.105921e+00</td>\n",
       "      <td>3.472355e+00</td>\n",
       "      <td>8.794073e+00</td>\n",
       "      <td>8.202239e+03</td>\n",
       "      <td>4.758940e+18</td>\n",
       "      <td>8.793154e+02</td>\n",
       "    </tr>\n",
       "    <tr>\n",
       "      <th>min</th>\n",
       "      <td>0.000000e+00</td>\n",
       "      <td>0.000000e+00</td>\n",
       "      <td>1.991000e+03</td>\n",
       "      <td>1.000000e+00</td>\n",
       "      <td>1.000000e+00</td>\n",
       "      <td>-5.000000e+04</td>\n",
       "      <td>-9.222899e+18</td>\n",
       "      <td>1.711000e+03</td>\n",
       "    </tr>\n",
       "    <tr>\n",
       "      <th>25%</th>\n",
       "      <td>5.100000e+02</td>\n",
       "      <td>0.000000e+00</td>\n",
       "      <td>2.008000e+03</td>\n",
       "      <td>3.000000e+00</td>\n",
       "      <td>8.000000e+00</td>\n",
       "      <td>9.200000e+02</td>\n",
       "      <td>-4.500543e+18</td>\n",
       "      <td>5.300000e+03</td>\n",
       "    </tr>\n",
       "    <tr>\n",
       "      <th>50%</th>\n",
       "      <td>1.006000e+03</td>\n",
       "      <td>1.000000e+00</td>\n",
       "      <td>2.013000e+03</td>\n",
       "      <td>7.000000e+00</td>\n",
       "      <td>1.600000e+01</td>\n",
       "      <td>3.014000e+03</td>\n",
       "      <td>-7.946765e+17</td>\n",
       "      <td>5.499000e+03</td>\n",
       "    </tr>\n",
       "    <tr>\n",
       "      <th>75%</th>\n",
       "      <td>1.477000e+03</td>\n",
       "      <td>2.000000e+00</td>\n",
       "      <td>2.016000e+03</td>\n",
       "      <td>1.000000e+01</td>\n",
       "      <td>2.300000e+01</td>\n",
       "      <td>6.506000e+03</td>\n",
       "      <td>3.189517e+18</td>\n",
       "      <td>5.812000e+03</td>\n",
       "    </tr>\n",
       "    <tr>\n",
       "      <th>max</th>\n",
       "      <td>1.999000e+03</td>\n",
       "      <td>8.000000e+00</td>\n",
       "      <td>2.020000e+03</td>\n",
       "      <td>1.200000e+01</td>\n",
       "      <td>3.100000e+01</td>\n",
       "      <td>1.239050e+06</td>\n",
       "      <td>9.223292e+18</td>\n",
       "      <td>9.402000e+03</td>\n",
       "    </tr>\n",
       "  </tbody>\n",
       "</table>\n",
       "</div>"
      ]
     },
     "execution_count": 8,
     "metadata": {},
     "output_type": "execute_result"
    }
   ],
   "execution_count": 8
  },
  {
   "metadata": {
    "ExecuteTime": {
     "end_time": "2024-11-29T10:38:11.230410Z",
     "start_time": "2024-11-29T10:38:09.953035Z"
    }
   },
   "cell_type": "code",
   "source": "df.nunique()",
   "id": "ca59773217e336be",
   "outputs": [
    {
     "data": {
      "text/plain": [
       "User               2000\n",
       "Card                  9\n",
       "Year                 30\n",
       "Month                12\n",
       "Day                  31\n",
       "Amount            98952\n",
       "Use Chip              3\n",
       "Merchant Name    100343\n",
       "MCC                 109\n",
       "Errors?              23\n",
       "Is Fraud?             2\n",
       "dtype: int64"
      ]
     },
     "execution_count": 20,
     "metadata": {},
     "output_type": "execute_result"
    }
   ],
   "execution_count": 20
  },
  {
   "metadata": {
    "ExecuteTime": {
     "end_time": "2024-11-29T11:46:23.317124Z",
     "start_time": "2024-11-29T11:46:23.233464Z"
    }
   },
   "cell_type": "code",
   "source": "df['Use Chip'].unique()",
   "id": "20c37635bb74681e",
   "outputs": [
    {
     "data": {
      "text/plain": [
       "['Swipe Transaction', 'Online Transaction', 'Chip Transaction']\n",
       "Categories (3, object): ['Chip Transaction', 'Online Transaction', 'Swipe Transaction']"
      ]
     },
     "execution_count": 28,
     "metadata": {},
     "output_type": "execute_result"
    }
   ],
   "execution_count": 28
  },
  {
   "metadata": {
    "ExecuteTime": {
     "end_time": "2024-11-29T12:33:14.530990Z",
     "start_time": "2024-11-29T12:33:14.292671Z"
    }
   },
   "cell_type": "code",
   "source": [
    "fraud_counts = df[df[\"Is Fraud?\"] == 1].groupby([\"Use Chip\"]).size()\n",
    "total_counts = df.groupby([\"Use Chip\"]).size()"
   ],
   "id": "f9305c1c4c53ec4d",
   "outputs": [
    {
     "name": "stderr",
     "output_type": "stream",
     "text": [
      "/tmp/ipykernel_16550/2700424082.py:1: FutureWarning: The default of observed=False is deprecated and will be changed to True in a future version of pandas. Pass observed=False to retain current behavior or observed=True to adopt the future default and silence this warning.\n",
      "  fraud_counts = df[df[\"Is Fraud?\"] == 1].groupby([\"Use Chip\"]).size()\n",
      "/tmp/ipykernel_16550/2700424082.py:2: FutureWarning: The default of observed=False is deprecated and will be changed to True in a future version of pandas. Pass observed=False to retain current behavior or observed=True to adopt the future default and silence this warning.\n",
      "  total_counts = df.groupby([\"Use Chip\"]).size()\n"
     ]
    }
   ],
   "execution_count": 88
  },
  {
   "metadata": {
    "ExecuteTime": {
     "end_time": "2024-11-29T12:40:42.340492Z",
     "start_time": "2024-11-29T12:40:42.024073Z"
    }
   },
   "cell_type": "code",
   "source": "df[(df[\"Year\"] == 2018) | (df[\"Year\"] == 2019)].nunique()",
   "id": "b00750c1fe88b044",
   "outputs": [
    {
     "data": {
      "text/plain": [
       "User              1587\n",
       "Card                 9\n",
       "Year                 2\n",
       "Month               12\n",
       "Day                 31\n",
       "Amount           50128\n",
       "Use Chip             3\n",
       "Merchant Name    45614\n",
       "MCC                109\n",
       "Errors?             21\n",
       "Is Fraud?            2\n",
       "dtype: int64"
      ]
     },
     "execution_count": 98,
     "metadata": {},
     "output_type": "execute_result"
    }
   ],
   "execution_count": 98
  },
  {
   "metadata": {
    "ExecuteTime": {
     "end_time": "2024-11-29T13:10:07.477104Z",
     "start_time": "2024-11-29T13:10:07.201626Z"
    }
   },
   "cell_type": "code",
   "source": "df[df[\"Use Chip\"] == \"Online Transaction\"].groupby([\"Year\", \"Is Fraud?\"]).count()[\"User\"].unstack()",
   "id": "d3176e0446309c2d",
   "outputs": [
    {
     "data": {
      "text/plain": [
       "Is Fraud?     False   True \n",
       "Year                       \n",
       "1995          192.0     NaN\n",
       "1996          607.0     NaN\n",
       "1997         1424.0     NaN\n",
       "1998         3194.0     NaN\n",
       "1999         6233.0     NaN\n",
       "2000        11572.0     NaN\n",
       "2001        17992.0     NaN\n",
       "2002        27069.0   102.0\n",
       "2003        38197.0   264.0\n",
       "2004        50240.0   377.0\n",
       "2005        68441.0    16.0\n",
       "2006        87467.0     NaN\n",
       "2007       105738.0  1251.0\n",
       "2008       124827.0  2565.0\n",
       "2009       141772.0   694.0\n",
       "2010       159180.0  3458.0\n",
       "2011       172534.0    52.0\n",
       "2012       181421.0   993.0\n",
       "2013       192637.0  1706.0\n",
       "2014       200721.0   893.0\n",
       "2015       209073.0  2777.0\n",
       "2016       210541.0  3073.0\n",
       "2017       213658.0     NaN\n",
       "2018       213504.0   128.0\n",
       "2019       213953.0     NaN\n",
       "2020        42684.0     NaN"
      ],
      "text/html": [
       "<div>\n",
       "<style scoped>\n",
       "    .dataframe tbody tr th:only-of-type {\n",
       "        vertical-align: middle;\n",
       "    }\n",
       "\n",
       "    .dataframe tbody tr th {\n",
       "        vertical-align: top;\n",
       "    }\n",
       "\n",
       "    .dataframe thead th {\n",
       "        text-align: right;\n",
       "    }\n",
       "</style>\n",
       "<table border=\"1\" class=\"dataframe\">\n",
       "  <thead>\n",
       "    <tr style=\"text-align: right;\">\n",
       "      <th>Is Fraud?</th>\n",
       "      <th>False</th>\n",
       "      <th>True</th>\n",
       "    </tr>\n",
       "    <tr>\n",
       "      <th>Year</th>\n",
       "      <th></th>\n",
       "      <th></th>\n",
       "    </tr>\n",
       "  </thead>\n",
       "  <tbody>\n",
       "    <tr>\n",
       "      <th>1995</th>\n",
       "      <td>192.0</td>\n",
       "      <td>NaN</td>\n",
       "    </tr>\n",
       "    <tr>\n",
       "      <th>1996</th>\n",
       "      <td>607.0</td>\n",
       "      <td>NaN</td>\n",
       "    </tr>\n",
       "    <tr>\n",
       "      <th>1997</th>\n",
       "      <td>1424.0</td>\n",
       "      <td>NaN</td>\n",
       "    </tr>\n",
       "    <tr>\n",
       "      <th>1998</th>\n",
       "      <td>3194.0</td>\n",
       "      <td>NaN</td>\n",
       "    </tr>\n",
       "    <tr>\n",
       "      <th>1999</th>\n",
       "      <td>6233.0</td>\n",
       "      <td>NaN</td>\n",
       "    </tr>\n",
       "    <tr>\n",
       "      <th>2000</th>\n",
       "      <td>11572.0</td>\n",
       "      <td>NaN</td>\n",
       "    </tr>\n",
       "    <tr>\n",
       "      <th>2001</th>\n",
       "      <td>17992.0</td>\n",
       "      <td>NaN</td>\n",
       "    </tr>\n",
       "    <tr>\n",
       "      <th>2002</th>\n",
       "      <td>27069.0</td>\n",
       "      <td>102.0</td>\n",
       "    </tr>\n",
       "    <tr>\n",
       "      <th>2003</th>\n",
       "      <td>38197.0</td>\n",
       "      <td>264.0</td>\n",
       "    </tr>\n",
       "    <tr>\n",
       "      <th>2004</th>\n",
       "      <td>50240.0</td>\n",
       "      <td>377.0</td>\n",
       "    </tr>\n",
       "    <tr>\n",
       "      <th>2005</th>\n",
       "      <td>68441.0</td>\n",
       "      <td>16.0</td>\n",
       "    </tr>\n",
       "    <tr>\n",
       "      <th>2006</th>\n",
       "      <td>87467.0</td>\n",
       "      <td>NaN</td>\n",
       "    </tr>\n",
       "    <tr>\n",
       "      <th>2007</th>\n",
       "      <td>105738.0</td>\n",
       "      <td>1251.0</td>\n",
       "    </tr>\n",
       "    <tr>\n",
       "      <th>2008</th>\n",
       "      <td>124827.0</td>\n",
       "      <td>2565.0</td>\n",
       "    </tr>\n",
       "    <tr>\n",
       "      <th>2009</th>\n",
       "      <td>141772.0</td>\n",
       "      <td>694.0</td>\n",
       "    </tr>\n",
       "    <tr>\n",
       "      <th>2010</th>\n",
       "      <td>159180.0</td>\n",
       "      <td>3458.0</td>\n",
       "    </tr>\n",
       "    <tr>\n",
       "      <th>2011</th>\n",
       "      <td>172534.0</td>\n",
       "      <td>52.0</td>\n",
       "    </tr>\n",
       "    <tr>\n",
       "      <th>2012</th>\n",
       "      <td>181421.0</td>\n",
       "      <td>993.0</td>\n",
       "    </tr>\n",
       "    <tr>\n",
       "      <th>2013</th>\n",
       "      <td>192637.0</td>\n",
       "      <td>1706.0</td>\n",
       "    </tr>\n",
       "    <tr>\n",
       "      <th>2014</th>\n",
       "      <td>200721.0</td>\n",
       "      <td>893.0</td>\n",
       "    </tr>\n",
       "    <tr>\n",
       "      <th>2015</th>\n",
       "      <td>209073.0</td>\n",
       "      <td>2777.0</td>\n",
       "    </tr>\n",
       "    <tr>\n",
       "      <th>2016</th>\n",
       "      <td>210541.0</td>\n",
       "      <td>3073.0</td>\n",
       "    </tr>\n",
       "    <tr>\n",
       "      <th>2017</th>\n",
       "      <td>213658.0</td>\n",
       "      <td>NaN</td>\n",
       "    </tr>\n",
       "    <tr>\n",
       "      <th>2018</th>\n",
       "      <td>213504.0</td>\n",
       "      <td>128.0</td>\n",
       "    </tr>\n",
       "    <tr>\n",
       "      <th>2019</th>\n",
       "      <td>213953.0</td>\n",
       "      <td>NaN</td>\n",
       "    </tr>\n",
       "    <tr>\n",
       "      <th>2020</th>\n",
       "      <td>42684.0</td>\n",
       "      <td>NaN</td>\n",
       "    </tr>\n",
       "  </tbody>\n",
       "</table>\n",
       "</div>"
      ]
     },
     "execution_count": 109,
     "metadata": {},
     "output_type": "execute_result"
    }
   ],
   "execution_count": 109
  },
  {
   "metadata": {
    "ExecuteTime": {
     "end_time": "2024-11-29T12:33:26.075544Z",
     "start_time": "2024-11-29T12:33:26.068856Z"
    }
   },
   "cell_type": "code",
   "source": "(fraud_counts / total_counts * 100) #.unstack(fill_value=0)",
   "id": "ad04de92b52e727f",
   "outputs": [
    {
     "data": {
      "text/plain": [
       "Use Chip\n",
       "Chip Transaction      0.076913\n",
       "Online Transaction    0.676281\n",
       "Swipe Transaction     0.042714\n",
       "dtype: float64"
      ]
     },
     "execution_count": 90,
     "metadata": {},
     "output_type": "execute_result"
    }
   ],
   "execution_count": 90
  },
  {
   "metadata": {
    "ExecuteTime": {
     "end_time": "2024-11-29T12:12:21.020003Z",
     "start_time": "2024-11-29T12:12:16.890060Z"
    }
   },
   "cell_type": "code",
   "source": "(df[df[\"Is Fraud?\"] == 1]).hist([\"Year\"], bins=10)",
   "id": "7239498f20805135",
   "outputs": [
    {
     "ename": "TypeError",
     "evalue": "unsupported operand type(s) for /: 'Axes' and 'Axes'",
     "output_type": "error",
     "traceback": [
      "\u001B[0;31m---------------------------------------------------------------------------\u001B[0m",
      "\u001B[0;31mTypeError\u001B[0m                                 Traceback (most recent call last)",
      "Cell \u001B[0;32mIn[76], line 1\u001B[0m\n\u001B[0;32m----> 1\u001B[0m \u001B[43m(\u001B[49m\u001B[43mdf\u001B[49m\u001B[43m[\u001B[49m\u001B[43mdf\u001B[49m\u001B[43m[\u001B[49m\u001B[38;5;124;43m\"\u001B[39;49m\u001B[38;5;124;43mIs Fraud?\u001B[39;49m\u001B[38;5;124;43m\"\u001B[39;49m\u001B[43m]\u001B[49m\u001B[43m \u001B[49m\u001B[38;5;241;43m==\u001B[39;49m\u001B[43m \u001B[49m\u001B[38;5;241;43m1\u001B[39;49m\u001B[43m]\u001B[49m\u001B[43m)\u001B[49m\u001B[38;5;241;43m.\u001B[39;49m\u001B[43mhist\u001B[49m\u001B[43m(\u001B[49m\u001B[43m[\u001B[49m\u001B[38;5;124;43m\"\u001B[39;49m\u001B[38;5;124;43mYear\u001B[39;49m\u001B[38;5;124;43m\"\u001B[39;49m\u001B[43m]\u001B[49m\u001B[43m,\u001B[49m\u001B[43m \u001B[49m\u001B[43mbins\u001B[49m\u001B[38;5;241;43m=\u001B[39;49m\u001B[38;5;241;43m10\u001B[39;49m\u001B[43m)\u001B[49m\u001B[43m \u001B[49m\u001B[38;5;241;43m/\u001B[39;49m\u001B[43m \u001B[49m\u001B[43m(\u001B[49m\u001B[43mdf\u001B[49m\u001B[43m[\u001B[49m\u001B[43mdf\u001B[49m\u001B[43m[\u001B[49m\u001B[38;5;124;43m\"\u001B[39;49m\u001B[38;5;124;43mIs Fraud?\u001B[39;49m\u001B[38;5;124;43m\"\u001B[39;49m\u001B[43m]\u001B[49m\u001B[43m \u001B[49m\u001B[38;5;241;43m==\u001B[39;49m\u001B[43m \u001B[49m\u001B[38;5;241;43m0\u001B[39;49m\u001B[43m]\u001B[49m\u001B[43m)\u001B[49m\u001B[38;5;241;43m.\u001B[39;49m\u001B[43mhist\u001B[49m\u001B[43m(\u001B[49m\u001B[43m[\u001B[49m\u001B[38;5;124;43m\"\u001B[39;49m\u001B[38;5;124;43mYear\u001B[39;49m\u001B[38;5;124;43m\"\u001B[39;49m\u001B[43m]\u001B[49m\u001B[43m,\u001B[49m\u001B[43m \u001B[49m\u001B[43mbins\u001B[49m\u001B[38;5;241;43m=\u001B[39;49m\u001B[38;5;241;43m10\u001B[39;49m\u001B[43m)\u001B[49m\n",
      "\u001B[0;31mTypeError\u001B[0m: unsupported operand type(s) for /: 'Axes' and 'Axes'"
     ]
    },
    {
     "data": {
      "text/plain": [
       "<Figure size 640x480 with 1 Axes>"
      ],
      "image/png": "[encoded data removed]"
     },
     "metadata": {},
     "output_type": "display_data"
    },
    {
     "data": {
      "text/plain": [
       "<Figure size 640x480 with 1 Axes>"
      ],
      "image/png": "[encoded data removed]"
     },
     "metadata": {},
     "output_type": "display_data"
    }
   ],
   "execution_count": 76
  },
  {
   "metadata": {
    "ExecuteTime": {
     "end_time": "2024-11-29T13:59:52.101359Z",
     "start_time": "2024-11-29T13:59:52.097100Z"
    }
   },
   "cell_type": "code",
   "source": [
    "dtype_conversions_preprocessed = {\n",
    "    'User': 'uint16',\n",
    "    'Card': 'uint8',\n",
    "    'Year': 'uint16',\n",
    "    'Month': 'uint8',\n",
    "    'Day': 'uint8',\n",
    "    # 'Time', -- dropped\n",
    "    \"Hour\": \"uint8\",\n",
    "    \"Minute\": \"uint8\",\n",
    "    # 'Amount',\n",
    "    # 'Use Chip': 'category', -- dropped\n",
    "    # 'Merchant Name',\n",
    "    # 'Merchant City': 'category', -- dropped\n",
    "    # 'Merchant State': 'category', -- dropped\n",
    "    # 'Zip', -- dropped\n",
    "    'MCC': 'uint16',\n",
    "    'Errors?': 'category',\n",
    "    # 'Is Fraud?'\n",
    "}"
   ],
   "id": "7d5fd25bc5dff544",
   "outputs": [],
   "execution_count": 2
  },
  {
   "metadata": {
    "ExecuteTime": {
     "end_time": "2024-11-29T14:01:49.960333Z",
     "start_time": "2024-11-29T14:01:49.643046Z"
    }
   },
   "cell_type": "code",
   "source": "df = pd.read_csv(\"dataset_files/preprocessed_transactions.csv\", dtype=dtype_conversions_preprocessed)",
   "id": "b2d86500d89e3e04",
   "outputs": [],
   "execution_count": 4
  },
  {
   "metadata": {
    "ExecuteTime": {
     "end_time": "2024-11-29T14:03:38.377680Z",
     "start_time": "2024-11-29T14:03:38.337011Z"
    }
   },
   "cell_type": "code",
   "source": "df.groupby([\"Year\", \"Is Fraud?\"]).count()[\"User\"].unstack()",
   "id": "86379782bab9a1f8",
   "outputs": [
    {
     "data": {
      "text/plain": [
       "Is Fraud?   False  True \n",
       "Year                    \n",
       "2015       209073   2777\n",
       "2016       210541   3073"
      ],
      "text/html": [
       "<div>\n",
       "<style scoped>\n",
       "    .dataframe tbody tr th:only-of-type {\n",
       "        vertical-align: middle;\n",
       "    }\n",
       "\n",
       "    .dataframe tbody tr th {\n",
       "        vertical-align: top;\n",
       "    }\n",
       "\n",
       "    .dataframe thead th {\n",
       "        text-align: right;\n",
       "    }\n",
       "</style>\n",
       "<table border=\"1\" class=\"dataframe\">\n",
       "  <thead>\n",
       "    <tr style=\"text-align: right;\">\n",
       "      <th>Is Fraud?</th>\n",
       "      <th>False</th>\n",
       "      <th>True</th>\n",
       "    </tr>\n",
       "    <tr>\n",
       "      <th>Year</th>\n",
       "      <th></th>\n",
       "      <th></th>\n",
       "    </tr>\n",
       "  </thead>\n",
       "  <tbody>\n",
       "    <tr>\n",
       "      <th>2015</th>\n",
       "      <td>209073</td>\n",
       "      <td>2777</td>\n",
       "    </tr>\n",
       "    <tr>\n",
       "      <th>2016</th>\n",
       "      <td>210541</td>\n",
       "      <td>3073</td>\n",
       "    </tr>\n",
       "  </tbody>\n",
       "</table>\n",
       "</div>"
      ]
     },
     "execution_count": 6,
     "metadata": {},
     "output_type": "execute_result"
    }
   ],
   "execution_count": 6
  },
  {
   "metadata": {
    "ExecuteTime": {
     "end_time": "2024-11-29T14:05:58.288166Z",
     "start_time": "2024-11-29T14:05:58.274540Z"
    }
   },
   "cell_type": "code",
   "source": "df.info()",
   "id": "7b2f84730b1ec31a",
   "outputs": [
    {
     "name": "stdout",
     "output_type": "stream",
     "text": [
      "<class 'pandas.core.frame.DataFrame'>\n",
      "RangeIndex: 425464 entries, 0 to 425463\n",
      "Data columns (total 12 columns):\n",
      " #   Column         Non-Null Count   Dtype   \n",
      "---  ------         --------------   -----   \n",
      " 0   User           425464 non-null  uint16  \n",
      " 1   Card           425464 non-null  uint8   \n",
      " 2   Year           425464 non-null  uint16  \n",
      " 3   Month          425464 non-null  uint8   \n",
      " 4   Day            425464 non-null  uint8   \n",
      " 5   Amount         425464 non-null  int64   \n",
      " 6   Merchant Name  425464 non-null  int64   \n",
      " 7   MCC            425464 non-null  uint16  \n",
      " 8   Errors?        9920 non-null    category\n",
      " 9   Is Fraud?      425464 non-null  bool    \n",
      " 10  Hour           425464 non-null  uint8   \n",
      " 11  Minute         425464 non-null  uint8   \n",
      "dtypes: bool(1), category(1), int64(2), uint16(3), uint8(5)\n",
      "memory usage: 11.8 MB\n"
     ]
    }
   ],
   "execution_count": 7
  }
 ],
 "metadata": {
  "kernelspec": {
   "display_name": "Python 3",
   "language": "python",
   "name": "python3"
  },
  "language_info": {
   "codemirror_mode": {
    "name": "ipython",
    "version": 2
   },
   "file_extension": ".py",
   "mimetype": "text/x-python",
   "name": "python",
   "nbconvert_exporter": "python",
   "pygments_lexer": "ipython2",
   "version": "2.7.6"
  }
 },
 "nbformat": 4,
 "nbformat_minor": 5
}
